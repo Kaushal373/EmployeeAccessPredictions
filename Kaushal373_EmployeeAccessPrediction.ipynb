{
 "cells": [
  {
   "cell_type": "markdown",
   "metadata": {},
   "source": [
    "# <center>  Employee Access Prediction </center>\n",
    "\n",
    "# ECorp\n",
    "Company Introduction: \n",
    "Your client for this project is a multinational technology company.\n",
    "\n",
    "ECorp is an American multinational technology company that focuses on e-commerce, cloud computing, digital streaming, and artificial intelligence.\n",
    "They are spread across the globe with hundreds of thousands of employees in these domains.\n",
    "When an employee at any company starts working, they first need to obtain the resource access necessary to fulfill their role.\n",
    "Employees passing certain criteria regarding their primary and secondary roles are granted access to the requested resources.\n",
    "This efficient system has helped the company maintain background checks of its employees and usage of allocated resources.\n",
    "\n",
    "Current Scenario\n",
    "A group of employees has been invited to test the automated system. An auto-access model seeks to minimize the human involvement required to grant or revoke employee access.\n",
    "\n",
    "\n"
   ]
  },
  {
   "cell_type": "markdown",
   "metadata": {},
   "source": [
    "# Problem Statement\n",
    "The current process suffers from the following problems:\n",
    "\n",
    "If an employee discovers that they need access to certain resources, they are supposed to contact a knowledgeable supervisor.\n",
    "The supervisor takes time to manually grant the needed access to the requesting employee.\n",
    "As employees move throughout a company, this access discovery/recovery cycle wastes a non-trivial amount of time and money.\n",
    "\n",
    "The company has hired you as a data science consultant. They want to automate the process of approving or revoking access to a resource according to their role in the company.\n",
    "\n",
    "Your Role\n",
    "You are given a dataset containing the ACTION (ground truth), RESOURCE, and information about the employee's role at the time of approval.\n",
    "The model will take an employee's role information and the requested resource in the form of a resource code and will determine if an employee should be given access or not.\n",
    "Your task is to build a binary-class classification model using the dataset.\n",
    "Because there was no machine learning model for this problem in the company, you don’t have a quantifiable win condition. You need to build the best possible model.\n",
    "\n",
    "Project Deliverables\n",
    "Deliverable: Employee Access Classification.<br>\n",
    "Machine Learning Task: Classification<br>\n",
    "Target Variable: <b>ACTION<b>\n",
    "\n",
    "Evaluation Metric\n",
    "The model evaluation will be based on the <b>Accuracy</b> Score."
   ]
  },
  {
   "cell_type": "markdown",
   "metadata": {},
   "source": [
    "# Data Description\n",
    "\n",
    "<table>\t<th>\tColumn Name\t</th>\t<th>\tDescription\t</th>\t\n",
    "<tr>\t<td>\tRESOURCE\t</td>\t<td>\tAn ID for each resource.\t</td<\t</tr>\n",
    "<tr>\t<td>\tMGR_ID\t</td>\t<td>\tThe EMPLOYEE ID of the manager of the current EMPLOYEE ID record; an employee may have only one manager at a time.\t</td<\t</tr>\n",
    "<tr>\t<td>\tROLE_ROLLUP_1\t</td>\t<td>\tCompany role grouping category id 1 (e.g. US Engineering).\t</td<\t</tr>\n",
    "<tr>\t<td>\tROLE_ROLLUP_2\t</td>\t<td>\tCompany role grouping category id 2 (e.g. US Retail).\t</td<\t</tr>\n",
    "<tr>\t<td>\tROLE_DEPTNAME\t</td>\t<td>\tCompany role department description (e.g. Retail).\t</td<\t</tr>\n",
    "<tr>\t<td>\tROLE_TITLE\t</td>\t<td>\tCompany role business title description (e.g. Senior Engineering Retail Manager)\t</td<\t</tr>\n",
    "<tr>\t<td>\tROLE_FAMILY_DESC\t</td>\t<td>\tCompany role family extended description (e.g. Retail Manager, Software Engineering)\t</td<\t</tr>\n",
    "<tr>\t<td>\tROLE_FAMILY\t</td>\t<td>\tCompany role family description (e.g. Retail Manager).\t</td<\t</tr>\n",
    "<tr>\t<td>\tROLE_CODE\t</td>\t<td>\tCompany role code; this code is unique to each role (e.g. Manager)\t</td<\t</tr>\n",
    "<tr>\t<td>\tID\t</td>\t<td>\tID of the Employee\t</td<\t</tr>\n",
    "<tr>\t<td>\tACTION\t</td>\t<td>\tACTION is 1 if the resource was approved, 0 if the resource was no.\t</td<\t</tr>\n",
    "</table>\t\t\t\t\t\t\t\n"
   ]
  },
  {
   "cell_type": "code",
   "execution_count": 1,
   "metadata": {},
   "outputs": [
    {
     "name": "stderr",
     "output_type": "stream",
     "text": [
      "C:\\ProgramData\\Anaconda4\\lib\\site-packages\\dtale\\dash_application\\charts.py:13: UserWarning: \n",
      "The dash_core_components package is deprecated. Please replace\n",
      "`import dash_core_components as dcc` with `from dash import dcc`\n",
      "  import dash_core_components as dcc\n",
      "C:\\ProgramData\\Anaconda4\\lib\\site-packages\\dtale\\dash_application\\charts.py:14: UserWarning: \n",
      "The dash_html_components package is deprecated. Please replace\n",
      "`import dash_html_components as html` with `from dash import html`\n",
      "  import dash_html_components as html\n"
     ]
    }
   ],
   "source": [
    "#Important Libraries Import\n",
    "\n",
    "import pandas as pd\n",
    "import numpy as np\n",
    "import seaborn as sns\n",
    "import matplotlib.pyplot as plt\n",
    "%matplotlib inline\n",
    "import dtale\n",
    "from pandas_profiling import profile_report\n",
    "\n",
    "import warnings\n",
    "warnings.filterwarnings('ignore')\n",
    "\n",
    "from sklearn.preprocessing import StandardScaler\n",
    "from sklearn.model_selection import train_test_split, GridSearchCV,cross_val_score\n",
    "from sklearn.metrics import accuracy_score\n",
    "\n",
    "from sklearn.linear_model import LogisticRegression\n",
    "from sklearn.tree import DecisionTreeClassifier\n",
    "from sklearn.ensemble import RandomForestClassifier\n",
    "import xgboost\n",
    "\n"
   ]
  },
  {
   "cell_type": "code",
   "execution_count": 5,
   "metadata": {},
   "outputs": [
    {
     "data": {
      "text/plain": [
       "(24576, 11)"
      ]
     },
     "execution_count": 5,
     "metadata": {},
     "output_type": "execute_result"
    }
   ],
   "source": [
    "train_data = pd.read_csv('ea_train.csv')\n",
    "train_data.shape"
   ]
  },
  {
   "cell_type": "code",
   "execution_count": 6,
   "metadata": {},
   "outputs": [
    {
     "name": "stdout",
     "output_type": "stream",
     "text": [
      "<class 'pandas.core.frame.DataFrame'>\n",
      "RangeIndex: 24576 entries, 0 to 24575\n",
      "Data columns (total 11 columns):\n",
      " #   Column            Non-Null Count  Dtype\n",
      "---  ------            --------------  -----\n",
      " 0   RESOURCE          24576 non-null  int64\n",
      " 1   MGR_ID            24576 non-null  int64\n",
      " 2   ROLE_ROLLUP_1     24576 non-null  int64\n",
      " 3   ROLE_ROLLUP_2     24576 non-null  int64\n",
      " 4   ROLE_DEPTNAME     24576 non-null  int64\n",
      " 5   ROLE_TITLE        24576 non-null  int64\n",
      " 6   ROLE_FAMILY_DESC  24576 non-null  int64\n",
      " 7   ROLE_FAMILY       24576 non-null  int64\n",
      " 8   ROLE_CODE         24576 non-null  int64\n",
      " 9   ID                24576 non-null  int64\n",
      " 10  ACTION            24576 non-null  int64\n",
      "dtypes: int64(11)\n",
      "memory usage: 2.1 MB\n"
     ]
    }
   ],
   "source": [
    "train_data.info()"
   ]
  },
  {
   "cell_type": "code",
   "execution_count": 9,
   "metadata": {},
   "outputs": [
    {
     "data": {
      "text/plain": [
       "(8193, 10)"
      ]
     },
     "execution_count": 9,
     "metadata": {},
     "output_type": "execute_result"
    }
   ],
   "source": [
    "test_data = pd.read_csv('ea_test.csv')\n",
    "test_data.shape"
   ]
  },
  {
   "cell_type": "code",
   "execution_count": 10,
   "metadata": {},
   "outputs": [
    {
     "data": {
      "text/plain": [
       "False"
      ]
     },
     "execution_count": 10,
     "metadata": {},
     "output_type": "execute_result"
    }
   ],
   "source": [
    "train_data.isnull().sum().any()"
   ]
  },
  {
   "cell_type": "code",
   "execution_count": 12,
   "metadata": {},
   "outputs": [],
   "source": [
    "d = dtale.show(train_data)\n",
    "d.open_browser()"
   ]
  },
  {
   "cell_type": "code",
   "execution_count": 14,
   "metadata": {},
   "outputs": [
    {
     "data": {
      "text/plain": [
       "<seaborn.axisgrid.PairGrid at 0x27008482310>"
      ]
     },
     "execution_count": 14,
     "metadata": {},
     "output_type": "execute_result"
    }
   ],
   "source": [
    "sns.pairplott(train_data)"
   ]
  },
  {
   "cell_type": "code",
   "execution_count": 17,
   "metadata": {},
   "outputs": [
    {
     "data": {
      "text/plain": [
       "<AxesSubplot:>"
      ]
     },
     "execution_count": 17,
     "metadata": {},
     "output_type": "execute_result"
    }
   ],
   "source": [
    "sns.heatmap(train_data.corr(),annot=True,cmap='viridis')"
   ]
  },
  {
   "cell_type": "code",
   "execution_count": 24,
   "metadata": {},
   "outputs": [
    {
     "data": {
      "text/plain": [
       "1    0.941895\n",
       "0    0.058105\n",
       "Name: ACTION, dtype: float64"
      ]
     },
     "execution_count": 24,
     "metadata": {},
     "output_type": "execute_result"
    }
   ],
   "source": [
    "train_data['ACTION'].value_counts(normalize=True)"
   ]
  },
  {
   "cell_type": "code",
   "execution_count": 28,
   "metadata": {},
   "outputs": [
    {
     "data": {
      "text/plain": [
       "RESOURCE             6469\n",
       "MGR_ID               3996\n",
       "ROLE_ROLLUP_1         123\n",
       "ROLE_ROLLUP_2         168\n",
       "ROLE_DEPTNAME         440\n",
       "ROLE_TITLE            331\n",
       "ROLE_FAMILY_DESC     2183\n",
       "ROLE_FAMILY            64\n",
       "ROLE_CODE             331\n",
       "ID                  24576\n",
       "ACTION                  2\n",
       "dtype: int64"
      ]
     },
     "execution_count": 28,
     "metadata": {},
     "output_type": "execute_result"
    }
   ],
   "source": [
    "train_data.nunique()"
   ]
  },
  {
   "cell_type": "code",
   "execution_count": 126,
   "metadata": {},
   "outputs": [],
   "source": [
    "train_data1=train_data.copy()"
   ]
  },
  {
   "cell_type": "code",
   "execution_count": 127,
   "metadata": {},
   "outputs": [
    {
     "name": "stdout",
     "output_type": "stream",
     "text": [
      "(24576, 8) (24576,)\n"
     ]
    }
   ],
   "source": [
    "X=train_data1.drop(['ID','ACTION','RESOURCE'],axis=1)\n",
    "y=train_data1['ACTION']\n",
    "print(X.shape,y.shape)"
   ]
  },
  {
   "cell_type": "code",
   "execution_count": 128,
   "metadata": {},
   "outputs": [
    {
     "name": "stdout",
     "output_type": "stream",
     "text": [
      "(19660, 8) (19660,) (4916, 8) (4916,)\n"
     ]
    }
   ],
   "source": [
    "X_train,X_test,y_train,y_test = train_test_split(X,y,test_size=0.2,random_state=42,stratify=y)\n",
    "print(X_train.shape,y_train.shape,X_test.shape,y_test.shape)"
   ]
  },
  {
   "cell_type": "code",
   "execution_count": 129,
   "metadata": {},
   "outputs": [],
   "source": [
    "SS = StandardScaler()"
   ]
  },
  {
   "cell_type": "code",
   "execution_count": 130,
   "metadata": {},
   "outputs": [
    {
     "data": {
      "text/html": [
       "<div>\n",
       "<style scoped>\n",
       "    .dataframe tbody tr th:only-of-type {\n",
       "        vertical-align: middle;\n",
       "    }\n",
       "\n",
       "    .dataframe tbody tr th {\n",
       "        vertical-align: top;\n",
       "    }\n",
       "\n",
       "    .dataframe thead th {\n",
       "        text-align: right;\n",
       "    }\n",
       "</style>\n",
       "<table border=\"1\" class=\"dataframe\">\n",
       "  <thead>\n",
       "    <tr style=\"text-align: right;\">\n",
       "      <th></th>\n",
       "      <th>MGR_ID</th>\n",
       "      <th>ROLE_ROLLUP_1</th>\n",
       "      <th>ROLE_ROLLUP_2</th>\n",
       "      <th>ROLE_DEPTNAME</th>\n",
       "      <th>ROLE_TITLE</th>\n",
       "      <th>ROLE_FAMILY_DESC</th>\n",
       "      <th>ROLE_FAMILY</th>\n",
       "      <th>ROLE_CODE</th>\n",
       "    </tr>\n",
       "  </thead>\n",
       "  <tbody>\n",
       "    <tr>\n",
       "      <th>10948</th>\n",
       "      <td>-0.017882</td>\n",
       "      <td>0.093435</td>\n",
       "      <td>0.017730</td>\n",
       "      <td>0.148835</td>\n",
       "      <td>-0.243280</td>\n",
       "      <td>-0.747518</td>\n",
       "      <td>1.067351</td>\n",
       "      <td>-0.256185</td>\n",
       "    </tr>\n",
       "    <tr>\n",
       "      <th>1352</th>\n",
       "      <td>-0.321744</td>\n",
       "      <td>0.112446</td>\n",
       "      <td>-0.018656</td>\n",
       "      <td>-0.018206</td>\n",
       "      <td>-0.255491</td>\n",
       "      <td>-0.366488</td>\n",
       "      <td>1.086011</td>\n",
       "      <td>-0.322304</td>\n",
       "    </tr>\n",
       "    <tr>\n",
       "      <th>11701</th>\n",
       "      <td>-0.580922</td>\n",
       "      <td>0.093435</td>\n",
       "      <td>0.017730</td>\n",
       "      <td>0.033928</td>\n",
       "      <td>-0.226576</td>\n",
       "      <td>-0.519030</td>\n",
       "      <td>-0.648361</td>\n",
       "      <td>-0.165315</td>\n",
       "    </tr>\n",
       "    <tr>\n",
       "      <th>14343</th>\n",
       "      <td>0.128293</td>\n",
       "      <td>-2.346923</td>\n",
       "      <td>-0.048943</td>\n",
       "      <td>0.029062</td>\n",
       "      <td>-0.069823</td>\n",
       "      <td>-0.672209</td>\n",
       "      <td>-0.627533</td>\n",
       "      <td>0.685752</td>\n",
       "    </tr>\n",
       "    <tr>\n",
       "      <th>4659</th>\n",
       "      <td>-0.610424</td>\n",
       "      <td>0.093435</td>\n",
       "      <td>0.017730</td>\n",
       "      <td>0.163005</td>\n",
       "      <td>-0.243280</td>\n",
       "      <td>1.034586</td>\n",
       "      <td>1.067351</td>\n",
       "      <td>-0.256185</td>\n",
       "    </tr>\n",
       "  </tbody>\n",
       "</table>\n",
       "</div>"
      ],
      "text/plain": [
       "         MGR_ID  ROLE_ROLLUP_1  ROLE_ROLLUP_2  ROLE_DEPTNAME  ROLE_TITLE  \\\n",
       "10948 -0.017882       0.093435       0.017730       0.148835   -0.243280   \n",
       "1352  -0.321744       0.112446      -0.018656      -0.018206   -0.255491   \n",
       "11701 -0.580922       0.093435       0.017730       0.033928   -0.226576   \n",
       "14343  0.128293      -2.346923      -0.048943       0.029062   -0.069823   \n",
       "4659  -0.610424       0.093435       0.017730       0.163005   -0.243280   \n",
       "\n",
       "       ROLE_FAMILY_DESC  ROLE_FAMILY  ROLE_CODE  \n",
       "10948         -0.747518     1.067351  -0.256185  \n",
       "1352          -0.366488     1.086011  -0.322304  \n",
       "11701         -0.519030    -0.648361  -0.165315  \n",
       "14343         -0.672209    -0.627533   0.685752  \n",
       "4659           1.034586     1.067351  -0.256185  "
      ]
     },
     "execution_count": 130,
     "metadata": {},
     "output_type": "execute_result"
    }
   ],
   "source": [
    "X_train[X_train.columns] = SS.fit_transform(X_train)\n",
    "X_train.head()"
   ]
  },
  {
   "cell_type": "code",
   "execution_count": 131,
   "metadata": {},
   "outputs": [
    {
     "data": {
      "text/html": [
       "<div>\n",
       "<style scoped>\n",
       "    .dataframe tbody tr th:only-of-type {\n",
       "        vertical-align: middle;\n",
       "    }\n",
       "\n",
       "    .dataframe tbody tr th {\n",
       "        vertical-align: top;\n",
       "    }\n",
       "\n",
       "    .dataframe thead th {\n",
       "        text-align: right;\n",
       "    }\n",
       "</style>\n",
       "<table border=\"1\" class=\"dataframe\">\n",
       "  <thead>\n",
       "    <tr style=\"text-align: right;\">\n",
       "      <th></th>\n",
       "      <th>MGR_ID</th>\n",
       "      <th>ROLE_ROLLUP_1</th>\n",
       "      <th>ROLE_ROLLUP_2</th>\n",
       "      <th>ROLE_DEPTNAME</th>\n",
       "      <th>ROLE_TITLE</th>\n",
       "      <th>ROLE_FAMILY_DESC</th>\n",
       "      <th>ROLE_FAMILY</th>\n",
       "      <th>ROLE_CODE</th>\n",
       "    </tr>\n",
       "  </thead>\n",
       "  <tbody>\n",
       "    <tr>\n",
       "      <th>24173</th>\n",
       "      <td>0.175785</td>\n",
       "      <td>0.093435</td>\n",
       "      <td>0.014365</td>\n",
       "      <td>-0.001630</td>\n",
       "      <td>-0.243280</td>\n",
       "      <td>1.034586</td>\n",
       "      <td>1.067351</td>\n",
       "      <td>-0.256185</td>\n",
       "    </tr>\n",
       "    <tr>\n",
       "      <th>13381</th>\n",
       "      <td>-0.583591</td>\n",
       "      <td>0.123505</td>\n",
       "      <td>0.006793</td>\n",
       "      <td>0.028046</td>\n",
       "      <td>-0.244192</td>\n",
       "      <td>-0.724596</td>\n",
       "      <td>-0.649644</td>\n",
       "      <td>-0.260781</td>\n",
       "    </tr>\n",
       "    <tr>\n",
       "      <th>9712</th>\n",
       "      <td>-0.691089</td>\n",
       "      <td>0.093435</td>\n",
       "      <td>0.014365</td>\n",
       "      <td>0.140387</td>\n",
       "      <td>-0.232861</td>\n",
       "      <td>1.981782</td>\n",
       "      <td>-0.646183</td>\n",
       "      <td>-0.199258</td>\n",
       "    </tr>\n",
       "    <tr>\n",
       "      <th>17230</th>\n",
       "      <td>-0.693063</td>\n",
       "      <td>0.093435</td>\n",
       "      <td>0.008686</td>\n",
       "      <td>0.072106</td>\n",
       "      <td>-0.171807</td>\n",
       "      <td>-0.672209</td>\n",
       "      <td>-0.627533</td>\n",
       "      <td>0.132223</td>\n",
       "    </tr>\n",
       "    <tr>\n",
       "      <th>14350</th>\n",
       "      <td>0.064673</td>\n",
       "      <td>0.125790</td>\n",
       "      <td>0.042970</td>\n",
       "      <td>0.220592</td>\n",
       "      <td>-0.243280</td>\n",
       "      <td>-0.569231</td>\n",
       "      <td>1.067351</td>\n",
       "      <td>-0.256185</td>\n",
       "    </tr>\n",
       "  </tbody>\n",
       "</table>\n",
       "</div>"
      ],
      "text/plain": [
       "         MGR_ID  ROLE_ROLLUP_1  ROLE_ROLLUP_2  ROLE_DEPTNAME  ROLE_TITLE  \\\n",
       "24173  0.175785       0.093435       0.014365      -0.001630   -0.243280   \n",
       "13381 -0.583591       0.123505       0.006793       0.028046   -0.244192   \n",
       "9712  -0.691089       0.093435       0.014365       0.140387   -0.232861   \n",
       "17230 -0.693063       0.093435       0.008686       0.072106   -0.171807   \n",
       "14350  0.064673       0.125790       0.042970       0.220592   -0.243280   \n",
       "\n",
       "       ROLE_FAMILY_DESC  ROLE_FAMILY  ROLE_CODE  \n",
       "24173          1.034586     1.067351  -0.256185  \n",
       "13381         -0.724596    -0.649644  -0.260781  \n",
       "9712           1.981782    -0.646183  -0.199258  \n",
       "17230         -0.672209    -0.627533   0.132223  \n",
       "14350         -0.569231     1.067351  -0.256185  "
      ]
     },
     "execution_count": 131,
     "metadata": {},
     "output_type": "execute_result"
    }
   ],
   "source": [
    "X_test[X_test.columns] = SS.transform(X_test)\n",
    "X_test.head()"
   ]
  },
  {
   "cell_type": "code",
   "execution_count": 132,
   "metadata": {},
   "outputs": [
    {
     "name": "stdout",
     "output_type": "stream",
     "text": [
      "0.9419125127161749\n",
      "0.9418226200162734\n",
      "[0.9415056  0.9415056  0.94201424 0.94201424 0.94201424 0.94201424\n",
      " 0.94201424 0.94201424 0.94201424 0.94201424]\n",
      "0.941912512716175\n"
     ]
    }
   ],
   "source": [
    "# Model1 - Logistic Regression\n",
    "LR = LogisticRegression()\n",
    "LR.fit(X_train,y_train)\n",
    "LR_Train = LR.predict(X_train)\n",
    "LR_Test = LR.predict(X_test)\n",
    "print(accuracy_score(y_train,LR_Train))\n",
    "print(accuracy_score(y_test,LR_Test))\n",
    "cv = cross_val_score(estimator=LogisticRegression(),cv=10,X=X_train,y=y_train)\n",
    "print(cv)\n",
    "print(np.mean(cv))"
   ]
  },
  {
   "cell_type": "code",
   "execution_count": 142,
   "metadata": {},
   "outputs": [
    {
     "name": "stdout",
     "output_type": "stream",
     "text": [
      "{'n_estimators': 21}\n",
      "0.924618514750763\n"
     ]
    },
    {
     "data": {
      "text/plain": [
       "\"\\nRF = RandomForestClassifier(random_state=42,class_weight='balanced',n_estimators=23)\\nRF.fit(X_train,y_train)\\nRF_Train = RF.predict(X_train)\\nRF_Test = RF.predict(X_test)\\nprint(accuracy_score(y_train,RF_Train))\\nprint(accuracy_score(y_test,RF_Test))\""
      ]
     },
     "execution_count": 142,
     "metadata": {},
     "output_type": "execute_result"
    }
   ],
   "source": [
    "# Model1 - RandomForestRegressor\n",
    "'''GSV1 = GridSearchCV(estimator=RandomForestClassifier(class_weight='balanced',random_state=42),cv=10,param_grid=dict(n_estimators=np.arange(1,50,5)))\n",
    "GSV1.fit(X_train,y_train)\n",
    "print(GSV1.best_params_)\n",
    "print(GSV1.best_score_)\n",
    "'''\n",
    "RF = RandomForestClassifier(random_state=42,class_weight='balanced',n_estimators=23)\n",
    "RF.fit(X_train,y_train)\n",
    "RF_Train = RF.predict(X_train)\n",
    "RF_Test = RF.predict(X_test)\n",
    "print(accuracy_score(y_train,RF_Train))\n",
    "print(accuracy_score(y_test,RF_Test))'''\n",
    "#cv1 = cross_val_score(estimator=RandomForestClassifier(),cv=10,X=X_train,y=y_train)\n",
    "#print(cv1)\n",
    "#print(np.mean(cv1))"
   ]
  },
  {
   "cell_type": "code",
   "execution_count": 71,
   "metadata": {},
   "outputs": [],
   "source": [
    "from xgboost import XGBClassifier,XGBRFClassifier"
   ]
  },
  {
   "cell_type": "code",
   "execution_count": 72,
   "metadata": {},
   "outputs": [
    {
     "name": "stdout",
     "output_type": "stream",
     "text": [
      "[15:55:04] WARNING: C:/Users/Administrator/workspace/xgboost-win64_release_1.5.0/src/learner.cc:576: \n",
      "Parameters: { \"class_weight\" } might not be used.\n",
      "\n",
      "  This could be a false alarm, with some parameters getting used by language bindings but\n",
      "  then being mistakenly passed down to XGBoost core, or some parameter actually being used\n",
      "  but getting flagged wrongly here. Please open an issue if you find any such cases.\n",
      "\n",
      "\n",
      "[15:55:04] WARNING: C:/Users/Administrator/workspace/xgboost-win64_release_1.5.0/src/learner.cc:1115: Starting in XGBoost 1.3.0, the default evaluation metric used with the objective 'binary:logistic' was changed from 'error' to 'logloss'. Explicitly set eval_metric if you'd like to restore the old behavior.\n",
      "0.943031536113937\n",
      "0.9420260374288039\n"
     ]
    }
   ],
   "source": [
    "# Model1 - RandomForestRegressor\n",
    "'''GSV1 = GridSearchCV(estimator=RandomForestClassifier(class_weight='balanced'),cv=10,param_grid=dict(n_estimators=np.arange(20,30,1)))\n",
    "GSV1.fit(X_train,y_train)\n",
    "print(GSV1.best_params_)\n",
    "print(GSV1.best_score_)\n",
    "'''\n",
    "\n",
    "XG = XGBRFClassifier(random_state=42,class_weight='balanced',n_estimators=23)\n",
    "XG.fit(X_train,y_train)\n",
    "XG_Train = XG.predict(X_train)\n",
    "XG_Test = XG.predict(X_test)\n",
    "print(accuracy_score(y_train,XG_Train))\n",
    "print(accuracy_score(y_test,XG_Test))\n",
    "#cv1 = cross_val_score(estimator=RandomForestClassifier(),cv=10,X=X_train,y=y_train)\n",
    "#print(cv1)\n",
    "#print(np.mean(cv1))"
   ]
  },
  {
   "cell_type": "code",
   "execution_count": 134,
   "metadata": {},
   "outputs": [],
   "source": [
    "test_data1=test_data.copy()"
   ]
  },
  {
   "cell_type": "code",
   "execution_count": 135,
   "metadata": {},
   "outputs": [],
   "source": [
    "X=test_data1.drop(['ID','RESOURCE'],axis=1)"
   ]
  },
  {
   "cell_type": "code",
   "execution_count": 136,
   "metadata": {},
   "outputs": [],
   "source": [
    "X[X.columns] = SS.transform(X)"
   ]
  },
  {
   "cell_type": "code",
   "execution_count": 137,
   "metadata": {},
   "outputs": [],
   "source": [
    "prediction = RF.predict(X)"
   ]
  },
  {
   "cell_type": "code",
   "execution_count": 138,
   "metadata": {},
   "outputs": [
    {
     "data": {
      "text/plain": [
       "array([1, 1, 1, ..., 1, 0, 1], dtype=int64)"
      ]
     },
     "execution_count": 138,
     "metadata": {},
     "output_type": "execute_result"
    }
   ],
   "source": [
    "prediction"
   ]
  },
  {
   "cell_type": "code",
   "execution_count": 139,
   "metadata": {},
   "outputs": [],
   "source": [
    "FinalOP = pd.DataFrame(test_data['ID'])"
   ]
  },
  {
   "cell_type": "code",
   "execution_count": 140,
   "metadata": {},
   "outputs": [],
   "source": [
    "FinalOP['Pred'] = prediction"
   ]
  },
  {
   "cell_type": "code",
   "execution_count": 141,
   "metadata": {},
   "outputs": [],
   "source": [
    "FinalOP.to_csv('submission.csv',header=False,index=False)"
   ]
  },
  {
   "cell_type": "code",
   "execution_count": null,
   "metadata": {},
   "outputs": [],
   "source": []
  }
 ],
 "metadata": {
  "kernelspec": {
   "display_name": "Python 3",
   "language": "python",
   "name": "python3"
  },
  "language_info": {
   "codemirror_mode": {
    "name": "ipython",
    "version": 3
   },
   "file_extension": ".py",
   "mimetype": "text/x-python",
   "name": "python",
   "nbconvert_exporter": "python",
   "pygments_lexer": "ipython3",
   "version": "3.8.5"
  }
 },
 "nbformat": 4,
 "nbformat_minor": 4
}
